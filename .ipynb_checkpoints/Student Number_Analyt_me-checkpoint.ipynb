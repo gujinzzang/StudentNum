{
 "cells": [
  {
   "cell_type": "code",
   "execution_count": 1,
   "metadata": {
    "collapsed": true
   },
   "outputs": [],
   "source": [
    "import pandas as pd\n",
    "import numpy as np"
   ]
  },
  {
   "cell_type": "code",
   "execution_count": 2,
   "metadata": {},
   "outputs": [
    {
     "data": {
      "text/html": [
       "<div>\n",
       "<style scoped>\n",
       "    .dataframe tbody tr th:only-of-type {\n",
       "        vertical-align: middle;\n",
       "    }\n",
       "\n",
       "    .dataframe tbody tr th {\n",
       "        vertical-align: top;\n",
       "    }\n",
       "\n",
       "    .dataframe thead th {\n",
       "        text-align: right;\n",
       "    }\n",
       "</style>\n",
       "<table border=\"1\" class=\"dataframe\">\n",
       "  <thead>\n",
       "    <tr style=\"text-align: right;\">\n",
       "      <th></th>\n",
       "      <th>0</th>\n",
       "      <th>1</th>\n",
       "    </tr>\n",
       "  </thead>\n",
       "  <tbody>\n",
       "    <tr>\n",
       "      <th>0</th>\n",
       "      <td>60141931</td>\n",
       "      <td>NaN</td>\n",
       "    </tr>\n",
       "    <tr>\n",
       "      <th>1</th>\n",
       "      <td>60161647</td>\n",
       "      <td>NaN</td>\n",
       "    </tr>\n",
       "    <tr>\n",
       "      <th>2</th>\n",
       "      <td>60171889</td>\n",
       "      <td>NaN</td>\n",
       "    </tr>\n",
       "    <tr>\n",
       "      <th>3</th>\n",
       "      <td>60141940</td>\n",
       "      <td>NaN</td>\n",
       "    </tr>\n",
       "    <tr>\n",
       "      <th>4</th>\n",
       "      <td>60175071</td>\n",
       "      <td>NaN</td>\n",
       "    </tr>\n",
       "    <tr>\n",
       "      <th>5</th>\n",
       "      <td>60151883</td>\n",
       "      <td>NaN</td>\n",
       "    </tr>\n",
       "    <tr>\n",
       "      <th>6</th>\n",
       "      <td>60141949</td>\n",
       "      <td>NaN</td>\n",
       "    </tr>\n",
       "    <tr>\n",
       "      <th>7</th>\n",
       "      <td>60161863</td>\n",
       "      <td>NaN</td>\n",
       "    </tr>\n",
       "    <tr>\n",
       "      <th>8</th>\n",
       "      <td>60141960</td>\n",
       "      <td>NaN</td>\n",
       "    </tr>\n",
       "    <tr>\n",
       "      <th>9</th>\n",
       "      <td>60161672</td>\n",
       "      <td>NaN</td>\n",
       "    </tr>\n",
       "    <tr>\n",
       "      <th>10</th>\n",
       "      <td>60141962</td>\n",
       "      <td>NaN</td>\n",
       "    </tr>\n",
       "    <tr>\n",
       "      <th>11</th>\n",
       "      <td>60141969</td>\n",
       "      <td>NaN</td>\n",
       "    </tr>\n",
       "    <tr>\n",
       "      <th>12</th>\n",
       "      <td>60155307</td>\n",
       "      <td>NaN</td>\n",
       "    </tr>\n",
       "    <tr>\n",
       "      <th>13</th>\n",
       "      <td>60151897</td>\n",
       "      <td>NaN</td>\n",
       "    </tr>\n",
       "    <tr>\n",
       "      <th>14</th>\n",
       "      <td>60151900</td>\n",
       "      <td>NaN</td>\n",
       "    </tr>\n",
       "    <tr>\n",
       "      <th>15</th>\n",
       "      <td>60171902</td>\n",
       "      <td>NaN</td>\n",
       "    </tr>\n",
       "    <tr>\n",
       "      <th>16</th>\n",
       "      <td>60175072</td>\n",
       "      <td>NaN</td>\n",
       "    </tr>\n",
       "    <tr>\n",
       "      <th>17</th>\n",
       "      <td>60175074</td>\n",
       "      <td>NaN</td>\n",
       "    </tr>\n",
       "    <tr>\n",
       "      <th>18</th>\n",
       "      <td>60161700</td>\n",
       "      <td>NaN</td>\n",
       "    </tr>\n",
       "    <tr>\n",
       "      <th>19</th>\n",
       "      <td>60142001</td>\n",
       "      <td>NaN</td>\n",
       "    </tr>\n",
       "    <tr>\n",
       "      <th>20</th>\n",
       "      <td>60141931</td>\n",
       "      <td>NaN</td>\n",
       "    </tr>\n",
       "    <tr>\n",
       "      <th>21</th>\n",
       "      <td>60161647</td>\n",
       "      <td>NaN</td>\n",
       "    </tr>\n",
       "    <tr>\n",
       "      <th>22</th>\n",
       "      <td>60171889</td>\n",
       "      <td>NaN</td>\n",
       "    </tr>\n",
       "    <tr>\n",
       "      <th>23</th>\n",
       "      <td>60141940</td>\n",
       "      <td>NaN</td>\n",
       "    </tr>\n",
       "    <tr>\n",
       "      <th>24</th>\n",
       "      <td>60175071</td>\n",
       "      <td>NaN</td>\n",
       "    </tr>\n",
       "    <tr>\n",
       "      <th>25</th>\n",
       "      <td>60151883</td>\n",
       "      <td>NaN</td>\n",
       "    </tr>\n",
       "    <tr>\n",
       "      <th>26</th>\n",
       "      <td>60141949</td>\n",
       "      <td>NaN</td>\n",
       "    </tr>\n",
       "    <tr>\n",
       "      <th>27</th>\n",
       "      <td>60161863</td>\n",
       "      <td>NaN</td>\n",
       "    </tr>\n",
       "    <tr>\n",
       "      <th>28</th>\n",
       "      <td>60141960</td>\n",
       "      <td>NaN</td>\n",
       "    </tr>\n",
       "    <tr>\n",
       "      <th>29</th>\n",
       "      <td>60161672</td>\n",
       "      <td>NaN</td>\n",
       "    </tr>\n",
       "    <tr>\n",
       "      <th>30</th>\n",
       "      <td>60141962</td>\n",
       "      <td>NaN</td>\n",
       "    </tr>\n",
       "    <tr>\n",
       "      <th>31</th>\n",
       "      <td>60141969</td>\n",
       "      <td>NaN</td>\n",
       "    </tr>\n",
       "    <tr>\n",
       "      <th>32</th>\n",
       "      <td>60155307</td>\n",
       "      <td>NaN</td>\n",
       "    </tr>\n",
       "    <tr>\n",
       "      <th>33</th>\n",
       "      <td>60151897</td>\n",
       "      <td>NaN</td>\n",
       "    </tr>\n",
       "    <tr>\n",
       "      <th>34</th>\n",
       "      <td>60151900</td>\n",
       "      <td>NaN</td>\n",
       "    </tr>\n",
       "    <tr>\n",
       "      <th>35</th>\n",
       "      <td>60171902</td>\n",
       "      <td>NaN</td>\n",
       "    </tr>\n",
       "    <tr>\n",
       "      <th>36</th>\n",
       "      <td>60175072</td>\n",
       "      <td>NaN</td>\n",
       "    </tr>\n",
       "    <tr>\n",
       "      <th>37</th>\n",
       "      <td>60175074</td>\n",
       "      <td>NaN</td>\n",
       "    </tr>\n",
       "    <tr>\n",
       "      <th>38</th>\n",
       "      <td>60161700</td>\n",
       "      <td>NaN</td>\n",
       "    </tr>\n",
       "    <tr>\n",
       "      <th>39</th>\n",
       "      <td>60142001</td>\n",
       "      <td>NaN</td>\n",
       "    </tr>\n",
       "  </tbody>\n",
       "</table>\n",
       "</div>"
      ],
      "text/plain": [
       "           0   1\n",
       "0   60141931 NaN\n",
       "1   60161647 NaN\n",
       "2   60171889 NaN\n",
       "3   60141940 NaN\n",
       "4   60175071 NaN\n",
       "5   60151883 NaN\n",
       "6   60141949 NaN\n",
       "7   60161863 NaN\n",
       "8   60141960 NaN\n",
       "9   60161672 NaN\n",
       "10  60141962 NaN\n",
       "11  60141969 NaN\n",
       "12  60155307 NaN\n",
       "13  60151897 NaN\n",
       "14  60151900 NaN\n",
       "15  60171902 NaN\n",
       "16  60175072 NaN\n",
       "17  60175074 NaN\n",
       "18  60161700 NaN\n",
       "19  60142001 NaN\n",
       "20  60141931 NaN\n",
       "21  60161647 NaN\n",
       "22  60171889 NaN\n",
       "23  60141940 NaN\n",
       "24  60175071 NaN\n",
       "25  60151883 NaN\n",
       "26  60141949 NaN\n",
       "27  60161863 NaN\n",
       "28  60141960 NaN\n",
       "29  60161672 NaN\n",
       "30  60141962 NaN\n",
       "31  60141969 NaN\n",
       "32  60155307 NaN\n",
       "33  60151897 NaN\n",
       "34  60151900 NaN\n",
       "35  60171902 NaN\n",
       "36  60175072 NaN\n",
       "37  60175074 NaN\n",
       "38  60161700 NaN\n",
       "39  60142001 NaN"
      ]
     },
     "execution_count": 2,
     "metadata": {},
     "output_type": "execute_result"
    }
   ],
   "source": [
    "StuNum=[] #빈 list 생성 \n",
    "data = pd.read_csv(\"./Student Number.csv\",header=None) #column명이 없기때문에\n",
    "data"
   ]
  },
  {
   "cell_type": "code",
   "execution_count": 3,
   "metadata": {},
   "outputs": [
    {
     "data": {
      "text/plain": [
       "array([60141931, 60161647, 60171889, 60141940, 60175071, 60151883,\n",
       "       60141949, 60161863, 60141960, 60161672, 60141962, 60141969,\n",
       "       60155307, 60151897, 60151900, 60171902, 60175072, 60175074,\n",
       "       60161700, 60142001, 60141931, 60161647, 60171889, 60141940,\n",
       "       60175071, 60151883, 60141949, 60161863, 60141960, 60161672,\n",
       "       60141962, 60141969, 60155307, 60151897, 60151900, 60171902,\n",
       "       60175072, 60175074, 60161700, 60142001], dtype=int64)"
      ]
     },
     "execution_count": 3,
     "metadata": {},
     "output_type": "execute_result"
    }
   ],
   "source": [
    "data.columns = [\"n\",\"x\"] #열구분\n",
    "data = data.drop(columns=\"x\") #unnamed 삭제\n",
    "#data.head()\n",
    "StuNum = np.array(data.n) #넘파이 패키지로 배열 생성\n",
    "StuNum"
   ]
  },
  {
   "cell_type": "code",
   "execution_count": 4,
   "metadata": {
    "collapsed": true
   },
   "outputs": [],
   "source": [
    "def chunker(seq, size): #chunker 함수 정의 리스트 원소 균일하게 분배\n",
    "    return (seq[pos:pos + size] for pos in range(0, len(seq), size)) #xrange\n",
    "#range값 안에서 반복한 값을 반환\n",
    "#반복한 값부터 size더한 값까지 Slicing한 값 반환"
   ]
  },
  {
   "cell_type": "code",
   "execution_count": 5,
   "metadata": {},
   "outputs": [
    {
     "name": "stdout",
     "output_type": "stream",
     "text": [
      "[60141931 60161647]\n",
      "[60171889 60141940]\n",
      "[60175071 60151883]\n",
      "[60141949 60161863]\n",
      "[60141960 60161672]\n",
      "[60141962 60141969]\n",
      "[60155307 60151897]\n",
      "[60151900 60171902]\n",
      "[60175072 60175074]\n",
      "[60161700 60142001]\n",
      "[60141931 60161647]\n",
      "[60171889 60141940]\n",
      "[60175071 60151883]\n",
      "[60141949 60161863]\n",
      "[60141960 60161672]\n",
      "[60141962 60141969]\n",
      "[60155307 60151897]\n",
      "[60151900 60171902]\n",
      "[60175072 60175074]\n",
      "[60161700 60142001]\n"
     ]
    }
   ],
   "source": [
    "for group in chunker(StuNum, 2):#전체 리스트를 두개 원소씩 분배 \n",
    "    print (group)"
   ]
  },
  {
   "cell_type": "code",
   "execution_count": 6,
   "metadata": {},
   "outputs": [
    {
     "data": {
      "text/plain": [
       "60141931"
      ]
     },
     "execution_count": 6,
     "metadata": {},
     "output_type": "execute_result"
    }
   ],
   "source": [
    "StuNum[0]#분리된 원소"
   ]
  },
  {
   "cell_type": "code",
   "execution_count": 7,
   "metadata": {},
   "outputs": [
    {
     "data": {
      "text/plain": [
       "['6', '0', '1', '4', '1', '9', '3', '1']"
      ]
     },
     "execution_count": 7,
     "metadata": {},
     "output_type": "execute_result"
    }
   ],
   "source": [
    "temp = str(StuNum[0]) #StuNum의 1원소를 하나씩 분리하기 위해 string값으로 변환\n",
    "studentnumlist = [] \n",
    "for i in range(8): #학번을 8개의 range로 분리\n",
    "    studentnumlist.append(temp[i]) \n",
    "studentnumlist\n",
    "#string으로 변환된 temp값을 8크기만큼 studentnumlist 리스트에 추가"
   ]
  },
  {
   "cell_type": "code",
   "execution_count": 8,
   "metadata": {},
   "outputs": [
    {
     "name": "stdout",
     "output_type": "stream",
     "text": [
      "['6', '0']\n",
      "['1', '4']\n",
      "['1', '9']\n",
      "['3', '1']\n"
     ]
    },
    {
     "data": {
      "text/plain": [
       "[['6', '0'], ['1', '4'], ['1', '9'], ['3', '1']]"
      ]
     },
     "execution_count": 8,
     "metadata": {},
     "output_type": "execute_result"
    }
   ],
   "source": [
    "listof2 = []\n",
    "for group in chunker(studentnumlist, 2):#studentnumlist 리스트를 두개 원소씩 분배 \n",
    "    print (group)\n",
    "    listof2.append(group) #두개 원소씩 분배된 group값을 listof2 리스트에 추가\n",
    "listof2"
   ]
  },
  {
   "cell_type": "code",
   "execution_count": 9,
   "metadata": {
    "scrolled": true
   },
   "outputs": [
    {
     "data": {
      "text/plain": [
       "[6, 0, 1, 4, 1, 9, 3, 1]"
      ]
     },
     "execution_count": 9,
     "metadata": {},
     "output_type": "execute_result"
    }
   ],
   "source": [
    "temp2 = np.array(listof2).ravel() #다차원 배열을 1차원 배열로 펴주는 함수=!reshape()\n",
    "temp2 = list(temp2.astype(int)) #temp2의 data type을 string에서 숫자형 int로 변환\n",
    "temp2\n",
    "#np change array dtype"
   ]
  },
  {
   "cell_type": "code",
   "execution_count": 10,
   "metadata": {
    "collapsed": true
   },
   "outputs": [],
   "source": [
    "#temp3 = temp2.copy()\n",
    "#temp3.append(temp2[::-1]) #배열 자체를 출력해서 배열 안에 배열이 들어감\n",
    "#temp3"
   ]
  },
  {
   "cell_type": "code",
   "execution_count": 11,
   "metadata": {},
   "outputs": [
    {
     "data": {
      "text/plain": [
       "[6, 0, 1, 4, 1, 9, 3, 1, 1, 3, 9, 1, 4, 1, 0, 6]"
      ]
     },
     "execution_count": 11,
     "metadata": {},
     "output_type": "execute_result"
    }
   ],
   "source": [
    "temp2+temp2[::-1]"
   ]
  },
  {
   "cell_type": "code",
   "execution_count": 12,
   "metadata": {
    "collapsed": true
   },
   "outputs": [],
   "source": [
    "#temp3 = temp2.copy()\n",
    "#for j in range(len(temp2)): #temp2 크기만큼 range값 안에서 반복\n",
    "#    temp3.append(temp2[len(temp2)-1-j]) #temp2의 \n",
    "#temp3\n",
    "#how to access digit in number by index python 원소의 숫자를 자릿수로 접근"
   ]
  },
  {
   "cell_type": "code",
   "execution_count": 13,
   "metadata": {},
   "outputs": [
    {
     "data": {
      "text/plain": [
       "['60', '14', '19', '31', '13', '91', '41', '06']"
      ]
     },
     "execution_count": 13,
     "metadata": {},
     "output_type": "execute_result"
    }
   ],
   "source": [
    "A = []\n",
    "for group in chunker(temp2+temp2[::-1], 2): #두개씩 묶어서 string으로 출력\n",
    "    A.append(''.join(str(e) for e in group))\n",
    "#     print (np.array(group).ravel())\n",
    "A\n",
    "#원소를 둘씩 묶기위해 리스트 스트링으로 변환\n",
    "#두개씩 읽어들이기 위해 join함수활용  "
   ]
  },
  {
   "cell_type": "code",
   "execution_count": 14,
   "metadata": {},
   "outputs": [
    {
     "data": {
      "text/plain": [
       "array([60, 14, 19, 31, 13, 91, 41,  6])"
      ]
     },
     "execution_count": 14,
     "metadata": {},
     "output_type": "execute_result"
    }
   ],
   "source": [
    "A = np.array(A).astype(int) #A배열의 data type을 string에서 숫자형 int로 변환\n",
    "A"
   ]
  },
  {
   "cell_type": "code",
   "execution_count": 15,
   "metadata": {},
   "outputs": [
    {
     "name": "stdout",
     "output_type": "stream",
     "text": [
      "[60 14 19 31 13 91 41  6]\n",
      "[60 16 16 47 74 61 61  6]\n",
      "[60 17 18 89 98 81 71  6]\n",
      "[60 14 19 40  4 91 41  6]\n",
      "[60 17 50 71 17  5 71  6]\n",
      "[60 15 18 83 38 81 51  6]\n",
      "[60 14 19 49 94 91 41  6]\n",
      "[60 16 18 63 36 81 61  6]\n",
      "[60 14 19 60  6 91 41  6]\n",
      "[60 16 16 72 27 61 61  6]\n",
      "[60 14 19 62 26 91 41  6]\n",
      "[60 14 19 69 96 91 41  6]\n",
      "[60 15 53  7 70 35 51  6]\n",
      "[60 15 18 97 79 81 51  6]\n",
      "[60 15 19  0  0 91 51  6]\n",
      "[60 17 19  2 20 91 71  6]\n",
      "[60 17 50 72 27  5 71  6]\n",
      "[60 17 50 74 47  5 71  6]\n",
      "[60 16 17  0  0 71 61  6]\n",
      "[60 14 20  1 10  2 41  6]\n",
      "[60 14 19 31 13 91 41  6]\n",
      "[60 16 16 47 74 61 61  6]\n",
      "[60 17 18 89 98 81 71  6]\n",
      "[60 14 19 40  4 91 41  6]\n",
      "[60 17 50 71 17  5 71  6]\n",
      "[60 15 18 83 38 81 51  6]\n",
      "[60 14 19 49 94 91 41  6]\n",
      "[60 16 18 63 36 81 61  6]\n",
      "[60 14 19 60  6 91 41  6]\n",
      "[60 16 16 72 27 61 61  6]\n",
      "[60 14 19 62 26 91 41  6]\n",
      "[60 14 19 69 96 91 41  6]\n",
      "[60 15 53  7 70 35 51  6]\n",
      "[60 15 18 97 79 81 51  6]\n",
      "[60 15 19  0  0 91 51  6]\n",
      "[60 17 19  2 20 91 71  6]\n",
      "[60 17 50 72 27  5 71  6]\n",
      "[60 17 50 74 47  5 71  6]\n",
      "[60 16 17  0  0 71 61  6]\n",
      "[60 14 20  1 10  2 41  6]\n"
     ]
    }
   ],
   "source": [
    "for k in StuNum: #반복문에 삽입\n",
    "    temp=str(k)\n",
    "    studentnumlist=[]\n",
    "    for i in range(8):\n",
    "        studentnumlist.append(temp[i])  \n",
    "        \n",
    "    listof2=[]\n",
    "    for group in chunker(studentnumlist, 2):\n",
    "                listof2.append(group)\n",
    "    \n",
    "    temp2=np.array(listof2).ravel()\n",
    "    temp2=list(temp2.astype(int))\n",
    "    temp3=temp2.copy()\n",
    "    \n",
    "    for j in range(len(temp2)):\n",
    "        temp3.append(temp2[len(temp2)-1-j])\n",
    "    \n",
    "    temp4=[]\n",
    "    for group in chunker(temp3, 2):\n",
    "        temp4.append(''.join(str(e) for e in group))\n",
    "        \n",
    "    temp4=np.array(temp4).astype(int)\n",
    "    \n",
    "    print(temp4) \n",
    "#henock"
   ]
  },
  {
   "cell_type": "code",
   "execution_count": 16,
   "metadata": {},
   "outputs": [
    {
     "name": "stdout",
     "output_type": "stream",
     "text": [
      "[60, 14, 19, 31, 13, 91, 41, 6]\n",
      "[8, 16, 17, 47, 74, 61, 62, 6]\n",
      "[6, 17, 18, 89, 98, 81, 71, 7]\n",
      "[60, 14, 19, 40, 4, 91, 41, 6]\n",
      "[60, 17, 50, 71, 18, 5, 72, 6]\n",
      "[20, 15, 18, 83, 38, 81, 51, 6]\n",
      "[6, 14, 19, 49, 94, 91, 41, 7]\n",
      "[20, 16, 18, 63, 36, 81, 61, 6]\n",
      "[60, 14, 19, 61, 6, 91, 41, 7]\n",
      "[30, 16, 17, 72, 27, 61, 62, 6]\n",
      "[30, 14, 19, 62, 26, 91, 41, 6]\n",
      "[6, 14, 19, 69, 96, 91, 41, 7]\n",
      "[8, 15, 53, 7, 70, 35, 51, 6]\n",
      "[8, 15, 18, 97, 79, 81, 51, 6]\n",
      "[60, 15, 19, 0, 1, 91, 51, 6]\n",
      "[30, 17, 19, 2, 20, 91, 71, 6]\n",
      "[30, 17, 50, 72, 27, 5, 71, 6]\n",
      "[15, 17, 50, 74, 47, 5, 71, 6]\n",
      "[60, 16, 17, 0, 1, 71, 61, 6]\n",
      "[60, 14, 20, 1, 10, 2, 41, 6]\n",
      "[60, 14, 19, 31, 13, 91, 41, 6]\n",
      "[8, 16, 17, 47, 74, 61, 62, 6]\n",
      "[6, 17, 18, 89, 98, 81, 71, 7]\n",
      "[60, 14, 19, 40, 4, 91, 41, 6]\n",
      "[60, 17, 50, 71, 18, 5, 72, 6]\n",
      "[20, 15, 18, 83, 38, 81, 51, 6]\n",
      "[6, 14, 19, 49, 94, 91, 41, 7]\n",
      "[20, 16, 18, 63, 36, 81, 61, 6]\n",
      "[60, 14, 19, 61, 6, 91, 41, 7]\n",
      "[30, 16, 17, 72, 27, 61, 62, 6]\n",
      "[30, 14, 19, 62, 26, 91, 41, 6]\n",
      "[6, 14, 19, 69, 96, 91, 41, 7]\n",
      "[8, 15, 53, 7, 70, 35, 51, 6]\n",
      "[8, 15, 18, 97, 79, 81, 51, 6]\n",
      "[60, 15, 19, 0, 1, 91, 51, 6]\n",
      "[30, 17, 19, 2, 20, 91, 71, 6]\n",
      "[30, 17, 50, 72, 27, 5, 71, 6]\n",
      "[15, 17, 50, 74, 47, 5, 71, 6]\n",
      "[60, 16, 17, 0, 1, 71, 61, 6]\n",
      "[60, 14, 20, 1, 10, 2, 41, 6]\n"
     ]
    }
   ],
   "source": [
    "Final_result=[] #excel로 내보내기 위한 2중 list 생성\n",
    "for k in StuNum: #과정들을 for문으로 반복해 각list로 생성\n",
    "    temp=str(k)\n",
    "    studentnumlist=[]\n",
    "    for i in range(8):\n",
    "        studentnumlist.append(temp[i])  \n",
    "        \n",
    "    listof2=[]\n",
    "    for group in chunker(studentnumlist, 2):\n",
    "                listof2.append(group)\n",
    "    \n",
    "    temp2=np.array(listof2).ravel()\n",
    "    temp2=list(temp2.astype(int))\n",
    "    \n",
    "    temp3 = temp2+temp2[::-1]\n",
    "   \n",
    "    temp4 = []\n",
    "    for group in chunker(temp3, 2):\n",
    "        temp4.append(''.join(str(e) for e in group))\n",
    "    temp4 = np.array(temp4).astype(int)\n",
    "   \n",
    "    if temp3[8] == 0: #0일 때는 그대로 출력\n",
    "        temp4\n",
    "    else:\n",
    "        temp4[0] = int(temp4[0]/temp3[8]) #아닐 때는 나눗셈 연산 후 출력\n",
    "        temp4\n",
    "        \n",
    "    A = []\n",
    "    for v in temp4: #중복값 연산\n",
    "        if v not in A: #없는 값이면 그대로 출력\n",
    "            A.append(v)\n",
    "        else: A.append(v+1) #있는 값이면 +1 후 출력\n",
    "    print(A) #최종 출력\n",
    "    \n",
    "    Final_result.append(A)\n",
    "    \n",
    "#Final_result 이중list 출력\n",
    "\n",
    "df = pd.DataFrame() #dataframe 생성\n",
    "df['Student Number'] = StuNum[::] #칼럼명 정의 후 삽입\n",
    "df['CalStudent Number'] = Final_result[::]\n",
    "df.to_excel(\"New Number.xlsx\") #엑셀파일 생성"
   ]
  }
 ],
 "metadata": {
  "kernelspec": {
   "display_name": "Python 3",
   "language": "python",
   "name": "python3"
  },
  "language_info": {
   "codemirror_mode": {
    "name": "ipython",
    "version": 3
   },
   "file_extension": ".py",
   "mimetype": "text/x-python",
   "name": "python",
   "nbconvert_exporter": "python",
   "pygments_lexer": "ipython3",
   "version": "3.5.6"
  }
 },
 "nbformat": 4,
 "nbformat_minor": 2
}
