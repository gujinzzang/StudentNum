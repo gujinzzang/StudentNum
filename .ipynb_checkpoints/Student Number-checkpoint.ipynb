{
 "cells": [
  {
   "cell_type": "code",
   "execution_count": 1,
   "metadata": {
    "collapsed": true
   },
   "outputs": [],
   "source": [
    "import pandas as pd\n",
    "import numpy as np\n",
    "import openpyxl"
   ]
  },
  {
   "cell_type": "code",
   "execution_count": 2,
   "metadata": {},
   "outputs": [
    {
     "name": "stdout",
     "output_type": "stream",
     "text": [
      "[60, 14, 19, 31, 13, 91, 41, 6]\n",
      "[8, 16, 17, 47, 74, 61, 62, 6]\n",
      "[6, 17, 18, 89, 98, 81, 71, 7]\n",
      "[60, 14, 19, 40, 4, 91, 41, 6]\n",
      "[60, 17, 50, 71, 18, 5, 72, 6]\n",
      "[20, 15, 18, 83, 38, 81, 51, 6]\n",
      "[6, 14, 19, 49, 94, 91, 41, 7]\n",
      "[20, 16, 18, 63, 36, 81, 61, 6]\n",
      "[60, 14, 19, 61, 6, 91, 41, 7]\n",
      "[30, 16, 17, 72, 27, 61, 62, 6]\n",
      "[30, 14, 19, 62, 26, 91, 41, 6]\n",
      "[6, 14, 19, 69, 96, 91, 41, 7]\n",
      "[8, 15, 53, 7, 70, 35, 51, 6]\n",
      "[8, 15, 18, 97, 79, 81, 51, 6]\n",
      "[60, 15, 19, 0, 1, 91, 51, 6]\n",
      "[30, 17, 19, 2, 20, 91, 71, 6]\n",
      "[30, 17, 50, 72, 27, 5, 71, 6]\n",
      "[15, 17, 50, 74, 47, 5, 71, 6]\n",
      "[60, 16, 17, 0, 1, 71, 61, 6]\n",
      "[60, 14, 20, 1, 10, 2, 41, 6]\n",
      "[60, 14, 19, 31, 13, 91, 41, 6]\n",
      "[8, 16, 17, 47, 74, 61, 62, 6]\n",
      "[6, 17, 18, 89, 98, 81, 71, 7]\n",
      "[60, 14, 19, 40, 4, 91, 41, 6]\n",
      "[60, 17, 50, 71, 18, 5, 72, 6]\n",
      "[20, 15, 18, 83, 38, 81, 51, 6]\n",
      "[6, 14, 19, 49, 94, 91, 41, 7]\n",
      "[20, 16, 18, 63, 36, 81, 61, 6]\n",
      "[60, 14, 19, 61, 6, 91, 41, 7]\n",
      "[30, 16, 17, 72, 27, 61, 62, 6]\n",
      "[30, 14, 19, 62, 26, 91, 41, 6]\n",
      "[6, 14, 19, 69, 96, 91, 41, 7]\n",
      "[8, 15, 53, 7, 70, 35, 51, 6]\n",
      "[8, 15, 18, 97, 79, 81, 51, 6]\n",
      "[60, 15, 19, 0, 1, 91, 51, 6]\n",
      "[30, 17, 19, 2, 20, 91, 71, 6]\n",
      "[30, 17, 50, 72, 27, 5, 71, 6]\n",
      "[15, 17, 50, 74, 47, 5, 71, 6]\n",
      "[60, 16, 17, 0, 1, 71, 61, 6]\n",
      "[60, 14, 20, 1, 10, 2, 41, 6]\n"
     ]
    }
   ],
   "source": [
    "StuNum=[]\n",
    "data = pd.read_csv(\"./Student Number.csv\",header=None)\n",
    "data.columns=[\"n\",\"x\"]\n",
    "data=data.drop(columns=\"x\")\n",
    "#data.head()\n",
    "StuNum=np.array(data.n)\n",
    "def chunker(seq, size):\n",
    "    return (seq[pos:pos + size] for pos in range(0, len(seq), size))\n",
    "Final_result=[]\n",
    "for k in StuNum:\n",
    "    temp=str(k)\n",
    "    studentnumlist=[]\n",
    "    for i in range(8):\n",
    "        studentnumlist.append(temp[i])  \n",
    "        \n",
    "    listof2=[]\n",
    "    for group in chunker(studentnumlist, 2):\n",
    "                listof2.append(group)\n",
    "    \n",
    "    temp2=np.array(listof2).ravel()\n",
    "    temp2=list(temp2.astype(int))\n",
    "    \n",
    "    temp3 = temp2+temp2[::-1]\n",
    "    \n",
    "    temp4 = []\n",
    "    for group in chunker(temp3, 2):\n",
    "        temp4.append(''.join(str(e) for e in group))\n",
    "    temp4 = np.array(temp4).astype(int)\n",
    "   \n",
    "    if temp3[8] == 0:\n",
    "        temp4\n",
    "    else:\n",
    "        temp4[0] = int(temp4[0]/temp3[8])\n",
    "        temp4\n",
    "        \n",
    "    A = []\n",
    "    for v in temp4:\n",
    "        if v not in A:\n",
    "            A.append(v)\n",
    "        else: A.append(v+1)\n",
    "    print(A) \n",
    "            \n",
    "    Final_result.append(A)\n",
    "\n",
    "df = pd.DataFrame()\n",
    "df['Student Number'] = StuNum[::]\n",
    "df['CalStudent Number'] = Final_result[::]\n",
    "df.to_excel(\"New Number.xlsx\")"
   ]
  }
 ],
 "metadata": {
  "kernelspec": {
   "display_name": "Python 3",
   "language": "python",
   "name": "python3"
  },
  "language_info": {
   "codemirror_mode": {
    "name": "ipython",
    "version": 3
   },
   "file_extension": ".py",
   "mimetype": "text/x-python",
   "name": "python",
   "nbconvert_exporter": "python",
   "pygments_lexer": "ipython3",
   "version": "3.5.6"
  }
 },
 "nbformat": 4,
 "nbformat_minor": 2
}
