{
 "cells": [
  {
   "cell_type": "code",
   "execution_count": 49,
   "metadata": {
    "collapsed": true,
    "scrolled": true
   },
   "outputs": [],
   "source": [
    "import pandas as pd\n",
    "import numpy as np"
   ]
  },
  {
   "cell_type": "code",
   "execution_count": 68,
   "metadata": {},
   "outputs": [
    {
     "data": {
      "text/plain": [
       "array([60141931, 60161647, 60171889, 60141940, 60175071, 60151883,\n",
       "       60141949, 60161863, 60141960, 60161672, 60141962, 60141969,\n",
       "       60155307, 60151897, 60151900, 60171902, 60175072, 60175074,\n",
       "       60161700, 60142001, 60141931, 60161647, 60171889, 60141940,\n",
       "       60175071, 60151883, 60141949, 60161863, 60141960, 60161672,\n",
       "       60141962, 60141969, 60155307, 60151897, 60151900, 60171902,\n",
       "       60175072, 60175074, 60161700, 60142001], dtype=int64)"
      ]
     },
     "execution_count": 68,
     "metadata": {},
     "output_type": "execute_result"
    }
   ],
   "source": [
    "StuNum=[]\n",
    "data = pd.read_csv(\"./Student Number.csv\",header=None)\n",
    "data.columns=[\"n\",\"x\"]\n",
    "data=data.drop(columns=\"x\")\n",
    "#data.head()\n",
    "StuNum=np.array(data.n)\n",
    "StuNum"
   ]
  },
  {
   "cell_type": "code",
   "execution_count": 73,
   "metadata": {},
   "outputs": [
    {
     "data": {
      "text/plain": [
       "60141931"
      ]
     },
     "execution_count": 73,
     "metadata": {},
     "output_type": "execute_result"
    }
   ],
   "source": [
    "StuNum[0]"
   ]
  },
  {
   "cell_type": "code",
   "execution_count": null,
   "metadata": {
    "collapsed": true
   },
   "outputs": [],
   "source": []
  }
 ],
 "metadata": {
  "kernelspec": {
   "display_name": "Python 2",
   "language": "python",
   "name": "python2"
  },
  "language_info": {
   "codemirror_mode": {
    "name": "ipython",
    "version": 2
   },
   "file_extension": ".py",
   "mimetype": "text/x-python",
   "name": "python",
   "nbconvert_exporter": "python",
   "pygments_lexer": "ipython2",
   "version": "2.7.13"
  }
 },
 "nbformat": 4,
 "nbformat_minor": 2
}
